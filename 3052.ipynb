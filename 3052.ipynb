{
 "cells": [
  {
   "cell_type": "code",
   "execution_count": 2,
   "metadata": {},
   "outputs": [],
   "source": [
    "\n",
    "ls= []\n",
    "for i in range(10):\n",
    "    _ = int(input())\n",
    "    ls.append(_%42)\n",
    "print(len(set(ls)))"
   ]
  }
 ],
 "metadata": {
  "kernelspec": {
   "display_name": "Python 3.7.3 ('test_project')",
   "language": "python",
   "name": "python3"
  },
  "language_info": {
   "codemirror_mode": {
    "name": "ipython",
    "version": 3
   },
   "file_extension": ".py",
   "mimetype": "text/x-python",
   "name": "python",
   "nbconvert_exporter": "python",
   "pygments_lexer": "ipython3",
   "version": "3.7.3"
  },
  "orig_nbformat": 4,
  "vscode": {
   "interpreter": {
    "hash": "1ccb7a50dca6c0b9a2bb48f80969f2943dfdd4a315881965ec4a49b6dc44d054"
   }
  }
 },
 "nbformat": 4,
 "nbformat_minor": 2
}
