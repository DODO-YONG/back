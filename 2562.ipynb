{
 "cells": [
  {
   "cell_type": "code",
   "execution_count": 10,
   "id": "c3ab010e",
   "metadata": {},
   "outputs": [
    {
     "name": "stdout",
     "output_type": "stream",
     "text": [
      "2\n",
      "19\n",
      "99\n",
      "34\n",
      "25\n",
      "46\n",
      "35\n",
      "25\n",
      "55\n",
      "99\n",
      "2\n"
     ]
    }
   ],
   "source": [
    "ls = []\n",
    "for i in range(1,10):\n",
    "    ls.append(int(input()))\n",
    "\n",
    "\n",
    "print(max(ls))\n",
    "print(ls.index(max(ls))+1)"
   ]
  },
  {
   "cell_type": "code",
   "execution_count": null,
   "id": "7f0f17a6",
   "metadata": {},
   "outputs": [],
   "source": []
  }
 ],
 "metadata": {
  "kernelspec": {
   "display_name": "Python 3",
   "language": "python",
   "name": "python3"
  },
  "language_info": {
   "codemirror_mode": {
    "name": "ipython",
    "version": 3
   },
   "file_extension": ".py",
   "mimetype": "text/x-python",
   "name": "python",
   "nbconvert_exporter": "python",
   "pygments_lexer": "ipython3",
   "version": "3.7.3"
  },
  "toc": {
   "base_numbering": 1,
   "nav_menu": {},
   "number_sections": true,
   "sideBar": true,
   "skip_h1_title": false,
   "title_cell": "Table of Contents",
   "title_sidebar": "Contents",
   "toc_cell": false,
   "toc_position": {},
   "toc_section_display": true,
   "toc_window_display": false
  }
 },
 "nbformat": 4,
 "nbformat_minor": 5
}
